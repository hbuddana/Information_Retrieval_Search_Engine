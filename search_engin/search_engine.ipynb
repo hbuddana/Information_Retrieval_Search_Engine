{
 "cells": [
  {
   "cell_type": "code",
   "execution_count": 10,
   "metadata": {},
   "outputs": [
    {
     "name": "stdout",
     "output_type": "stream",
     "text": [
      "Defaulting to user installation because normal site-packages is not writeable\n",
      "Requirement already satisfied: undetected_chromedriver in c:\\users\\hkb0057\\appdata\\roaming\\python\\python310\\site-packages (3.1.7)\n",
      "Requirement already satisfied: selenium>=4.0.0 in c:\\users\\hkb0057\\appdata\\roaming\\python\\python310\\site-packages (from undetected_chromedriver) (4.6.1)\n",
      "Requirement already satisfied: requests in c:\\users\\hkb0057\\appdata\\roaming\\python\\python310\\site-packages (from undetected_chromedriver) (2.28.1)\n",
      "Requirement already satisfied: websockets in c:\\users\\hkb0057\\appdata\\roaming\\python\\python310\\site-packages (from undetected_chromedriver) (10.4)\n",
      "Requirement already satisfied: certifi>=2021.10.8 in c:\\users\\hkb0057\\appdata\\roaming\\python\\python310\\site-packages (from selenium>=4.0.0->undetected_chromedriver) (2022.9.24)\n",
      "Requirement already satisfied: trio~=0.17 in c:\\users\\hkb0057\\appdata\\roaming\\python\\python310\\site-packages (from selenium>=4.0.0->undetected_chromedriver) (0.22.0)\n",
      "Requirement already satisfied: urllib3[socks]~=1.26 in c:\\users\\hkb0057\\appdata\\roaming\\python\\python310\\site-packages (from selenium>=4.0.0->undetected_chromedriver) (1.26.13)\n",
      "Requirement already satisfied: trio-websocket~=0.9 in c:\\users\\hkb0057\\appdata\\roaming\\python\\python310\\site-packages (from selenium>=4.0.0->undetected_chromedriver) (0.9.2)\n",
      "Requirement already satisfied: charset-normalizer<3,>=2 in c:\\users\\hkb0057\\appdata\\roaming\\python\\python310\\site-packages (from requests->undetected_chromedriver) (2.1.1)\n",
      "Requirement already satisfied: idna<4,>=2.5 in c:\\users\\hkb0057\\appdata\\roaming\\python\\python310\\site-packages (from requests->undetected_chromedriver) (3.4)\n",
      "Requirement already satisfied: outcome in c:\\users\\hkb0057\\appdata\\roaming\\python\\python310\\site-packages (from trio~=0.17->selenium>=4.0.0->undetected_chromedriver) (1.2.0)\n",
      "Requirement already satisfied: async-generator>=1.9 in c:\\users\\hkb0057\\appdata\\roaming\\python\\python310\\site-packages (from trio~=0.17->selenium>=4.0.0->undetected_chromedriver) (1.10)\n",
      "Requirement already satisfied: cffi>=1.14 in c:\\users\\hkb0057\\appdata\\roaming\\python\\python310\\site-packages (from trio~=0.17->selenium>=4.0.0->undetected_chromedriver) (1.15.1)\n",
      "Requirement already satisfied: sniffio in c:\\users\\hkb0057\\appdata\\roaming\\python\\python310\\site-packages (from trio~=0.17->selenium>=4.0.0->undetected_chromedriver) (1.3.0)\n",
      "Requirement already satisfied: sortedcontainers in c:\\users\\hkb0057\\appdata\\roaming\\python\\python310\\site-packages (from trio~=0.17->selenium>=4.0.0->undetected_chromedriver) (2.4.0)\n",
      "Requirement already satisfied: attrs>=19.2.0 in c:\\users\\hkb0057\\appdata\\roaming\\python\\python310\\site-packages (from trio~=0.17->selenium>=4.0.0->undetected_chromedriver) (22.1.0)\n",
      "Requirement already satisfied: exceptiongroup>=1.0.0rc9 in c:\\users\\hkb0057\\appdata\\roaming\\python\\python310\\site-packages (from trio~=0.17->selenium>=4.0.0->undetected_chromedriver) (1.0.4)\n",
      "Requirement already satisfied: wsproto>=0.14 in c:\\users\\hkb0057\\appdata\\roaming\\python\\python310\\site-packages (from trio-websocket~=0.9->selenium>=4.0.0->undetected_chromedriver) (1.2.0)\n",
      "Requirement already satisfied: PySocks!=1.5.7,<2.0,>=1.5.6 in c:\\users\\hkb0057\\appdata\\roaming\\python\\python310\\site-packages (from urllib3[socks]~=1.26->selenium>=4.0.0->undetected_chromedriver) (1.7.1)\n",
      "Requirement already satisfied: pycparser in c:\\users\\hkb0057\\appdata\\roaming\\python\\python310\\site-packages (from cffi>=1.14->trio~=0.17->selenium>=4.0.0->undetected_chromedriver) (2.21)\n",
      "Requirement already satisfied: h11<1,>=0.9.0 in c:\\users\\hkb0057\\appdata\\roaming\\python\\python310\\site-packages (from wsproto>=0.14->trio-websocket~=0.9->selenium>=4.0.0->undetected_chromedriver) (0.14.0)\n",
      "Note: you may need to restart the kernel to use updated packages.\n"
     ]
    },
    {
     "name": "stderr",
     "output_type": "stream",
     "text": [
      "\n",
      "[notice] A new release of pip available: 22.2.1 -> 22.3.1\n",
      "[notice] To update, run: python.exe -m pip install --upgrade pip\n"
     ]
    },
    {
     "name": "stdout",
     "output_type": "stream",
     "text": [
      "Note: you may need to restart the kernel to use updated packages.Defaulting to user installation because normal site-packages is not writeable\n",
      "\n"
     ]
    },
    {
     "name": "stderr",
     "output_type": "stream",
     "text": [
      "ERROR: Could not find a version that satisfies the requirement selenium.webdriver.support (from versions: none)\n",
      "ERROR: No matching distribution found for selenium.webdriver.support\n",
      "\n",
      "[notice] A new release of pip available: 22.2.1 -> 22.3.1\n",
      "[notice] To update, run: python.exe -m pip install --upgrade pip\n"
     ]
    },
    {
     "name": "stdout",
     "output_type": "stream",
     "text": [
      "Defaulting to user installation because normal site-packages is not writeable\n",
      "Note: you may need to restart the kernel to use updated packages.\n"
     ]
    },
    {
     "name": "stderr",
     "output_type": "stream",
     "text": [
      "ERROR: Could not find a version that satisfies the requirement selenium.webdriver.common.by (from versions: none)\n",
      "ERROR: No matching distribution found for selenium.webdriver.common.by\n",
      "\n",
      "[notice] A new release of pip available: 22.2.1 -> 22.3.1\n",
      "[notice] To update, run: python.exe -m pip install --upgrade pip\n"
     ]
    },
    {
     "name": "stdout",
     "output_type": "stream",
     "text": [
      "Defaulting to user installation because normal site-packages is not writeableNote: you may need to restart the kernel to use updated packages.\n"
     ]
    },
    {
     "name": "stderr",
     "output_type": "stream",
     "text": [
      "ERROR: Could not find a version that satisfies the requirement selenium.webdriver.support.wait (from versions: none)\n",
      "ERROR: No matching distribution found for selenium.webdriver.support.wait\n",
      "\n",
      "[notice] A new release of pip available: 22.2.1 -> 22.3.1\n",
      "[notice] To update, run: python.exe -m pip install --upgrade pip\n"
     ]
    },
    {
     "name": "stdout",
     "output_type": "stream",
     "text": [
      "\n",
      "Defaulting to user installation because normal site-packages is not writeable\n",
      "Requirement already satisfied: tqdm in c:\\users\\hkb0057\\appdata\\roaming\\python\\python310\\site-packages (4.64.1)\n",
      "Requirement already satisfied: colorama in c:\\users\\hkb0057\\appdata\\roaming\\python\\python310\\site-packages (from tqdm) (0.4.6)\n",
      "Note: you may need to restart the kernel to use updated packages.\n"
     ]
    },
    {
     "name": "stderr",
     "output_type": "stream",
     "text": [
      "\n",
      "[notice] A new release of pip available: 22.2.1 -> 22.3.1\n",
      "[notice] To update, run: python.exe -m pip install --upgrade pip\n"
     ]
    }
   ],
   "source": [
    "%pip install undetected_chromedriver\n",
    "%pip install selenium.webdriver.support\n",
    "%pip install selenium.webdriver.common.by\n",
    "%pip install selenium.webdriver.support.wait\n",
    "%pip install tqdm\n"
   ]
  },
  {
   "cell_type": "code",
   "execution_count": 11,
   "metadata": {},
   "outputs": [
    {
     "ename": "WebDriverException",
     "evalue": "Message: unknown error: cannot connect to chrome at 127.0.0.1:51188\nfrom session not created: This version of ChromeDriver only supports Chrome version 108\nCurrent browser version is 107.0.5304.122\nStacktrace:\nBacktrace:\n\t(No symbol) [0x00E9F243]\n\t(No symbol) [0x00E27FD1]\n\t(No symbol) [0x00D1D04D]\n\t(No symbol) [0x00D3F6B4]\n\t(No symbol) [0x00D38424]\n\t(No symbol) [0x00D38201]\n\t(No symbol) [0x00D6F056]\n\t(No symbol) [0x00D6EB2A]\n\t(No symbol) [0x00D68386]\n\t(No symbol) [0x00D4163C]\n\t(No symbol) [0x00D4269D]\n\tGetHandleVerifier [0x01139A22+2655074]\n\tGetHandleVerifier [0x0112CA24+2601828]\n\tGetHandleVerifier [0x00F48C0A+619850]\n\tGetHandleVerifier [0x00F47830+614768]\n\t(No symbol) [0x00E305FC]\n\t(No symbol) [0x00E35968]\n\t(No symbol) [0x00E35A55]\n\t(No symbol) [0x00E4051B]\n\tBaseThreadInitThunk [0x76B4FEF9+25]\n\tRtlGetAppContainerNamedObjectPath [0x77BD7BBE+286]\n\tRtlGetAppContainerNamedObjectPath [0x77BD7B8E+238]\n",
     "output_type": "error",
     "traceback": [
      "\u001b[1;31m---------------------------------------------------------------------------\u001b[0m",
      "\u001b[1;31mWebDriverException\u001b[0m                        Traceback (most recent call last)",
      "Cell \u001b[1;32mIn[11], line 21\u001b[0m\n\u001b[0;32m     18\u001b[0m contents \u001b[38;5;241m=\u001b[39m []\n\u001b[0;32m     20\u001b[0m \u001b[38;5;28;01mfor\u001b[39;00m url \u001b[38;5;129;01min\u001b[39;00m url_list:\n\u001b[1;32m---> 21\u001b[0m     driver \u001b[38;5;241m=\u001b[39m \u001b[43muc\u001b[49m\u001b[38;5;241;43m.\u001b[39;49m\u001b[43mChrome\u001b[49m\u001b[43m(\u001b[49m\u001b[43muse_subprocess\u001b[49m\u001b[38;5;241;43m=\u001b[39;49m\u001b[38;5;28;43;01mTrue\u001b[39;49;00m\u001b[43m,\u001b[49m\u001b[43m)\u001b[49m\n\u001b[0;32m     22\u001b[0m     driver\u001b[38;5;241m.\u001b[39mget(url)    \n\u001b[0;32m     24\u001b[0m     WebDriverWait(driver, \u001b[38;5;241m10\u001b[39m)\u001b[38;5;241m.\u001b[39muntil(EC\u001b[38;5;241m.\u001b[39mpresence_of_element_located((By\u001b[38;5;241m.\u001b[39mXPATH, \u001b[38;5;124m\"\u001b[39m\u001b[38;5;124m//*[@class=\u001b[39m\u001b[38;5;124m'\u001b[39m\u001b[38;5;124mgsc-wrapper\u001b[39m\u001b[38;5;124m'\u001b[39m\u001b[38;5;124m]\u001b[39m\u001b[38;5;124m\"\u001b[39m)))\n",
      "File \u001b[1;32m~\\AppData\\Roaming\\Python\\Python310\\site-packages\\undetected_chromedriver\\__init__.py:429\u001b[0m, in \u001b[0;36mChrome.__init__\u001b[1;34m(self, options, user_data_dir, driver_executable_path, browser_executable_path, port, enable_cdp_events, service_args, service_creationflags, desired_capabilities, advanced_elements, service_log_path, keep_alive, log_level, headless, version_main, patcher_force_close, suppress_welcome, use_subprocess, debug, no_sandbox, **kw)\u001b[0m\n\u001b[0;32m    426\u001b[0m \u001b[39melse\u001b[39;00m:\n\u001b[0;32m    427\u001b[0m     service \u001b[39m=\u001b[39m \u001b[39mNone\u001b[39;00m\n\u001b[1;32m--> 429\u001b[0m \u001b[39msuper\u001b[39;49m(Chrome, \u001b[39mself\u001b[39;49m)\u001b[39m.\u001b[39;49m\u001b[39m__init__\u001b[39;49m(\n\u001b[0;32m    430\u001b[0m     executable_path\u001b[39m=\u001b[39;49mpatcher\u001b[39m.\u001b[39;49mexecutable_path,\n\u001b[0;32m    431\u001b[0m     port\u001b[39m=\u001b[39;49mport,\n\u001b[0;32m    432\u001b[0m     options\u001b[39m=\u001b[39;49moptions,\n\u001b[0;32m    433\u001b[0m     service_args\u001b[39m=\u001b[39;49mservice_args,\n\u001b[0;32m    434\u001b[0m     desired_capabilities\u001b[39m=\u001b[39;49mdesired_capabilities,\n\u001b[0;32m    435\u001b[0m     service_log_path\u001b[39m=\u001b[39;49mservice_log_path,\n\u001b[0;32m    436\u001b[0m     keep_alive\u001b[39m=\u001b[39;49mkeep_alive,\n\u001b[0;32m    437\u001b[0m     service\u001b[39m=\u001b[39;49mservice,  \u001b[39m# needed or the service will be re-created\u001b[39;49;00m\n\u001b[0;32m    438\u001b[0m )\n\u001b[0;32m    440\u001b[0m \u001b[39mself\u001b[39m\u001b[39m.\u001b[39mreactor \u001b[39m=\u001b[39m \u001b[39mNone\u001b[39;00m\n\u001b[0;32m    442\u001b[0m \u001b[39mif\u001b[39;00m enable_cdp_events:\n",
      "File \u001b[1;32m~\\AppData\\Roaming\\Python\\Python310\\site-packages\\selenium\\webdriver\\chrome\\webdriver.py:81\u001b[0m, in \u001b[0;36mWebDriver.__init__\u001b[1;34m(self, executable_path, port, options, service_args, desired_capabilities, service_log_path, chrome_options, service, keep_alive)\u001b[0m\n\u001b[0;32m     78\u001b[0m \u001b[39mif\u001b[39;00m \u001b[39mnot\u001b[39;00m service:\n\u001b[0;32m     79\u001b[0m     service \u001b[39m=\u001b[39m Service(executable_path, port, service_args, service_log_path)\n\u001b[1;32m---> 81\u001b[0m \u001b[39msuper\u001b[39;49m()\u001b[39m.\u001b[39;49m\u001b[39m__init__\u001b[39;49m(\n\u001b[0;32m     82\u001b[0m     DesiredCapabilities\u001b[39m.\u001b[39;49mCHROME[\u001b[39m\"\u001b[39;49m\u001b[39mbrowserName\u001b[39;49m\u001b[39m\"\u001b[39;49m],\n\u001b[0;32m     83\u001b[0m     \u001b[39m\"\u001b[39;49m\u001b[39mgoog\u001b[39;49m\u001b[39m\"\u001b[39;49m,\n\u001b[0;32m     84\u001b[0m     port,\n\u001b[0;32m     85\u001b[0m     options,\n\u001b[0;32m     86\u001b[0m     service_args,\n\u001b[0;32m     87\u001b[0m     desired_capabilities,\n\u001b[0;32m     88\u001b[0m     service_log_path,\n\u001b[0;32m     89\u001b[0m     service,\n\u001b[0;32m     90\u001b[0m     keep_alive,\n\u001b[0;32m     91\u001b[0m )\n",
      "File \u001b[1;32m~\\AppData\\Roaming\\Python\\Python310\\site-packages\\selenium\\webdriver\\chromium\\webdriver.py:106\u001b[0m, in \u001b[0;36mChromiumDriver.__init__\u001b[1;34m(self, browser_name, vendor_prefix, port, options, service_args, desired_capabilities, service_log_path, service, keep_alive)\u001b[0m\n\u001b[0;32m    103\u001b[0m \u001b[39mself\u001b[39m\u001b[39m.\u001b[39mservice\u001b[39m.\u001b[39mstart()\n\u001b[0;32m    105\u001b[0m \u001b[39mtry\u001b[39;00m:\n\u001b[1;32m--> 106\u001b[0m     \u001b[39msuper\u001b[39;49m()\u001b[39m.\u001b[39;49m\u001b[39m__init__\u001b[39;49m(\n\u001b[0;32m    107\u001b[0m         command_executor\u001b[39m=\u001b[39;49mChromiumRemoteConnection(\n\u001b[0;32m    108\u001b[0m             remote_server_addr\u001b[39m=\u001b[39;49m\u001b[39mself\u001b[39;49m\u001b[39m.\u001b[39;49mservice\u001b[39m.\u001b[39;49mservice_url,\n\u001b[0;32m    109\u001b[0m             browser_name\u001b[39m=\u001b[39;49mbrowser_name,\n\u001b[0;32m    110\u001b[0m             vendor_prefix\u001b[39m=\u001b[39;49mvendor_prefix,\n\u001b[0;32m    111\u001b[0m             keep_alive\u001b[39m=\u001b[39;49mkeep_alive,\n\u001b[0;32m    112\u001b[0m             ignore_proxy\u001b[39m=\u001b[39;49m_ignore_proxy,\n\u001b[0;32m    113\u001b[0m         ),\n\u001b[0;32m    114\u001b[0m         options\u001b[39m=\u001b[39;49moptions,\n\u001b[0;32m    115\u001b[0m     )\n\u001b[0;32m    116\u001b[0m \u001b[39mexcept\u001b[39;00m \u001b[39mException\u001b[39;00m:\n\u001b[0;32m    117\u001b[0m     \u001b[39mself\u001b[39m\u001b[39m.\u001b[39mquit()\n",
      "File \u001b[1;32m~\\AppData\\Roaming\\Python\\Python310\\site-packages\\selenium\\webdriver\\remote\\webdriver.py:288\u001b[0m, in \u001b[0;36mWebDriver.__init__\u001b[1;34m(self, command_executor, desired_capabilities, browser_profile, proxy, keep_alive, file_detector, options)\u001b[0m\n\u001b[0;32m    286\u001b[0m \u001b[39mself\u001b[39m\u001b[39m.\u001b[39m_authenticator_id \u001b[39m=\u001b[39m \u001b[39mNone\u001b[39;00m\n\u001b[0;32m    287\u001b[0m \u001b[39mself\u001b[39m\u001b[39m.\u001b[39mstart_client()\n\u001b[1;32m--> 288\u001b[0m \u001b[39mself\u001b[39;49m\u001b[39m.\u001b[39;49mstart_session(capabilities, browser_profile)\n",
      "File \u001b[1;32m~\\AppData\\Roaming\\Python\\Python310\\site-packages\\undetected_chromedriver\\__init__.py:715\u001b[0m, in \u001b[0;36mChrome.start_session\u001b[1;34m(self, capabilities, browser_profile)\u001b[0m\n\u001b[0;32m    713\u001b[0m \u001b[39mif\u001b[39;00m \u001b[39mnot\u001b[39;00m capabilities:\n\u001b[0;32m    714\u001b[0m     capabilities \u001b[39m=\u001b[39m \u001b[39mself\u001b[39m\u001b[39m.\u001b[39moptions\u001b[39m.\u001b[39mto_capabilities()\n\u001b[1;32m--> 715\u001b[0m \u001b[39msuper\u001b[39;49m(selenium\u001b[39m.\u001b[39;49mwebdriver\u001b[39m.\u001b[39;49mchrome\u001b[39m.\u001b[39;49mwebdriver\u001b[39m.\u001b[39;49mWebDriver, \u001b[39mself\u001b[39;49m)\u001b[39m.\u001b[39;49mstart_session(\n\u001b[0;32m    716\u001b[0m     capabilities, browser_profile\n\u001b[0;32m    717\u001b[0m )\n",
      "File \u001b[1;32m~\\AppData\\Roaming\\Python\\Python310\\site-packages\\selenium\\webdriver\\remote\\webdriver.py:381\u001b[0m, in \u001b[0;36mWebDriver.start_session\u001b[1;34m(self, capabilities, browser_profile)\u001b[0m\n\u001b[0;32m    379\u001b[0m w3c_caps \u001b[39m=\u001b[39m _make_w3c_caps(capabilities)\n\u001b[0;32m    380\u001b[0m parameters \u001b[39m=\u001b[39m {\u001b[39m\"\u001b[39m\u001b[39mcapabilities\u001b[39m\u001b[39m\"\u001b[39m: w3c_caps}\n\u001b[1;32m--> 381\u001b[0m response \u001b[39m=\u001b[39m \u001b[39mself\u001b[39;49m\u001b[39m.\u001b[39;49mexecute(Command\u001b[39m.\u001b[39;49mNEW_SESSION, parameters)\n\u001b[0;32m    382\u001b[0m \u001b[39mif\u001b[39;00m \u001b[39m\"\u001b[39m\u001b[39msessionId\u001b[39m\u001b[39m\"\u001b[39m \u001b[39mnot\u001b[39;00m \u001b[39min\u001b[39;00m response:\n\u001b[0;32m    383\u001b[0m     response \u001b[39m=\u001b[39m response[\u001b[39m\"\u001b[39m\u001b[39mvalue\u001b[39m\u001b[39m\"\u001b[39m]\n",
      "File \u001b[1;32m~\\AppData\\Roaming\\Python\\Python310\\site-packages\\selenium\\webdriver\\remote\\webdriver.py:444\u001b[0m, in \u001b[0;36mWebDriver.execute\u001b[1;34m(self, driver_command, params)\u001b[0m\n\u001b[0;32m    442\u001b[0m response \u001b[39m=\u001b[39m \u001b[39mself\u001b[39m\u001b[39m.\u001b[39mcommand_executor\u001b[39m.\u001b[39mexecute(driver_command, params)\n\u001b[0;32m    443\u001b[0m \u001b[39mif\u001b[39;00m response:\n\u001b[1;32m--> 444\u001b[0m     \u001b[39mself\u001b[39;49m\u001b[39m.\u001b[39;49merror_handler\u001b[39m.\u001b[39;49mcheck_response(response)\n\u001b[0;32m    445\u001b[0m     response[\u001b[39m\"\u001b[39m\u001b[39mvalue\u001b[39m\u001b[39m\"\u001b[39m] \u001b[39m=\u001b[39m \u001b[39mself\u001b[39m\u001b[39m.\u001b[39m_unwrap_value(response\u001b[39m.\u001b[39mget(\u001b[39m\"\u001b[39m\u001b[39mvalue\u001b[39m\u001b[39m\"\u001b[39m, \u001b[39mNone\u001b[39;00m))\n\u001b[0;32m    446\u001b[0m     \u001b[39mreturn\u001b[39;00m response\n",
      "File \u001b[1;32m~\\AppData\\Roaming\\Python\\Python310\\site-packages\\selenium\\webdriver\\remote\\errorhandler.py:249\u001b[0m, in \u001b[0;36mErrorHandler.check_response\u001b[1;34m(self, response)\u001b[0m\n\u001b[0;32m    247\u001b[0m         alert_text \u001b[39m=\u001b[39m value[\u001b[39m\"\u001b[39m\u001b[39malert\u001b[39m\u001b[39m\"\u001b[39m]\u001b[39m.\u001b[39mget(\u001b[39m\"\u001b[39m\u001b[39mtext\u001b[39m\u001b[39m\"\u001b[39m)\n\u001b[0;32m    248\u001b[0m     \u001b[39mraise\u001b[39;00m exception_class(message, screen, stacktrace, alert_text)  \u001b[39m# type: ignore[call-arg]  # mypy is not smart enough here\u001b[39;00m\n\u001b[1;32m--> 249\u001b[0m \u001b[39mraise\u001b[39;00m exception_class(message, screen, stacktrace)\n",
      "\u001b[1;31mWebDriverException\u001b[0m: Message: unknown error: cannot connect to chrome at 127.0.0.1:51188\nfrom session not created: This version of ChromeDriver only supports Chrome version 108\nCurrent browser version is 107.0.5304.122\nStacktrace:\nBacktrace:\n\t(No symbol) [0x00E9F243]\n\t(No symbol) [0x00E27FD1]\n\t(No symbol) [0x00D1D04D]\n\t(No symbol) [0x00D3F6B4]\n\t(No symbol) [0x00D38424]\n\t(No symbol) [0x00D38201]\n\t(No symbol) [0x00D6F056]\n\t(No symbol) [0x00D6EB2A]\n\t(No symbol) [0x00D68386]\n\t(No symbol) [0x00D4163C]\n\t(No symbol) [0x00D4269D]\n\tGetHandleVerifier [0x01139A22+2655074]\n\tGetHandleVerifier [0x0112CA24+2601828]\n\tGetHandleVerifier [0x00F48C0A+619850]\n\tGetHandleVerifier [0x00F47830+614768]\n\t(No symbol) [0x00E305FC]\n\t(No symbol) [0x00E35968]\n\t(No symbol) [0x00E35A55]\n\t(No symbol) [0x00E4051B]\n\tBaseThreadInitThunk [0x76B4FEF9+25]\n\tRtlGetAppContainerNamedObjectPath [0x77BD7BBE+286]\n\tRtlGetAppContainerNamedObjectPath [0x77BD7B8E+238]\n"
     ]
    }
   ],
   "source": [
    "import undetected_chromedriver as uc\n",
    "from selenium.webdriver.support import expected_conditions as EC\n",
    "from selenium.webdriver.common.by import By\n",
    "from selenium.webdriver.support.wait import WebDriverWait\n",
    "from datetime import datetime\n",
    "import pandas as pd\n",
    "import time\n",
    "from tqdm import tqdm\n",
    "from sys import stdout\n",
    "\n",
    "search_keys = [\"Willis\", \"Sycamore\", \"Discovery Park\", \"Welch\", \"Union\", \"General Academic Building\", \"Gateway center\", \"Research\", \"Computer Science\", \"Data Engineering\"]\n",
    "\n",
    "url_list = []\n",
    "for search in search_keys:\n",
    "    url = 'https://www.unt.edu/search-results?search='+search.replace(' ', '+')+'&sa=Search'\n",
    "    url_list.append(url)\n",
    "\n",
    "contents = []\n",
    "\n",
    "for url in url_list:\n",
    "    driver = uc.Chrome(use_subprocess=True,)\n",
    "    driver.get(url)    \n",
    "\n",
    "    WebDriverWait(driver, 10).until(EC.presence_of_element_located((By.XPATH, \"//*[@class='gsc-wrapper']\")))\n",
    "\n",
    "    for index in range(10):\n",
    "        try:\n",
    "            index += 1 \n",
    "            WebDriverWait(driver, 10).until(EC.element_to_be_clickable((By.XPATH, \"//*[@class='gsc-cursor']/div[\"+str(index)+\"]\"))).click()\n",
    "\n",
    "            time.sleep(1)\n",
    "            WebDriverWait(driver, 10).until(EC.presence_of_element_located((By.XPATH, \"//*[@class='gsc-wrapper']\")))\n",
    "            elements = driver.find_elements(By.XPATH, \"//*[@class='gsc-thumbnail-inside']\")\n",
    "            for element in elements:\n",
    "                contents.append(element.text)\n",
    "        except:\n",
    "            break"
   ]
  },
  {
   "cell_type": "markdown",
   "metadata": {},
   "source": [
    "First: \n",
    "    Query sets:\n",
    "        1. Willis\n",
    "        2. Sycamore\n",
    "        3. Discovery Park\n",
    "        4. Welch\n",
    "        5. Union\n",
    "        6. General Academic Building\n",
    "        7. Gateway center\n",
    "        8. Research\n",
    "        9. Computer Science\n",
    "        10. Data Engineering\n",
    "Run the query on the original unt.edu and scrape the search results from UNT.edu site."
   ]
  },
  {
   "cell_type": "markdown",
   "metadata": {},
   "source": [
    "Second: Save the scarpped results to csv file."
   ]
  },
  {
   "cell_type": "code",
   "execution_count": 6,
   "metadata": {},
   "outputs": [],
   "source": [
    "import pandas as pd\n",
    "texts = []\n",
    "for content in  contents:\n",
    "    if not content == '':\n",
    "        texts.append(content)\n",
    "df = pd.DataFrame(\n",
    "    {'texts': texts})\n",
    "df.to_csv('resources/text.csv', index=True, encoding='utf-8')"
   ]
  },
  {
   "cell_type": "markdown",
   "metadata": {},
   "source": [
    "Third: Create a dictionary of words (Indexing) for vector space retrieval model for the search  and then create a search engine with vector space retrieval model for the search."
   ]
  },
  {
   "cell_type": "code",
   "execution_count": 7,
   "metadata": {},
   "outputs": [
    {
     "ename": "ModuleNotFoundError",
     "evalue": "No module named 'nltk'",
     "output_type": "error",
     "traceback": [
      "\u001b[1;31m---------------------------------------------------------------------------\u001b[0m",
      "\u001b[1;31mModuleNotFoundError\u001b[0m                       Traceback (most recent call last)",
      "Cell \u001b[1;32mIn[7], line 8\u001b[0m\n\u001b[0;32m      6\u001b[0m \u001b[38;5;28;01mimport\u001b[39;00m \u001b[38;5;21;01mpandas\u001b[39;00m\n\u001b[0;32m      7\u001b[0m \u001b[38;5;28;01mfrom\u001b[39;00m \u001b[38;5;21;01mcollections\u001b[39;00m \u001b[38;5;28;01mimport\u001b[39;00m Counter\n\u001b[1;32m----> 8\u001b[0m \u001b[38;5;28;01mfrom\u001b[39;00m \u001b[38;5;21;01mutils\u001b[39;00m \u001b[38;5;28;01mimport\u001b[39;00m textprocessing, helpers\n\u001b[0;32m      9\u001b[0m \u001b[38;5;124;03m''' Index data '''\u001b[39;00m\n\u001b[0;32m     11\u001b[0m \u001b[38;5;28mprint\u001b[39m(\u001b[38;5;124m'\u001b[39m\u001b[38;5;124mIndexing....\u001b[39m\u001b[38;5;124m'\u001b[39m)\n",
      "File \u001b[1;32mc:\\Users\\hkb0057\\Downloads\\CSCE 5200 - INFO RETRIEVAL\\Project\\search_engin\\utils\\textprocessing.py:2\u001b[0m\n\u001b[0;32m      1\u001b[0m \u001b[39mimport\u001b[39;00m \u001b[39mre\u001b[39;00m\n\u001b[1;32m----> 2\u001b[0m \u001b[39mfrom\u001b[39;00m \u001b[39mnltk\u001b[39;00m\u001b[39m.\u001b[39;00m\u001b[39mstem\u001b[39;00m\u001b[39m.\u001b[39;00m\u001b[39mporter\u001b[39;00m \u001b[39mimport\u001b[39;00m PorterStemmer\n\u001b[0;32m      3\u001b[0m \u001b[39m''' Text processing '''\u001b[39;00m\n\u001b[0;32m      6\u001b[0m \u001b[39mdef\u001b[39;00m \u001b[39mremove_nonwords\u001b[39m(text):\n",
      "\u001b[1;31mModuleNotFoundError\u001b[0m: No module named 'nltk'"
     ]
    }
   ],
   "source": [
    "import os\n",
    "import sys\n",
    "import pickle\n",
    "import math\n",
    "\n",
    "import pandas\n",
    "from collections import Counter\n",
    "from utils import textprocessing, helpers\n",
    "''' Index data '''\n",
    "\n",
    "print('Indexing....')\n",
    "\n",
    "resources_path = os.path.join(os.getcwd(), 'resources')\n",
    "data_path = os.path.join(os.getcwd(), 'data')\n",
    "\n",
    "if not os.path.isdir(resources_path):\n",
    "    print('ERROR: The {} is not a directory or does not exist'.format(\n",
    "        resources_path))\n",
    "    sys.exit(1)\n",
    "\n",
    "if not os.path.exists(data_path):\n",
    "    os.mkdir(data_path)\n",
    "\n",
    "# Get dataset path and stopwords file\n",
    "dataset_path = os.path.join(resources_path, 'text.csv')\n",
    "stopwords_file = os.path.join(resources_path, 'stopwords_en.txt')\n",
    "\n",
    "# Get stopwords set\n",
    "stopwords = helpers.get_stopwords(stopwords_file)\n",
    "\n",
    "df = pandas.read_csv(dataset_path)\n",
    "print(df.get('texts'))\n",
    "docs = list(df.get('texts'))\n",
    "\n",
    "\n",
    "corpus = []\n",
    "for doc in docs:    \n",
    "    text = doc\n",
    "    words = textprocessing.preprocess_text(text, stopwords)\n",
    "    bag_of_words = Counter(words)\n",
    "    corpus.append(bag_of_words)\n",
    "\n",
    "idf = helpers.compute_idf(corpus)\n",
    "for doc in corpus:\n",
    "    helpers.compute_weights(idf, doc)\n",
    "    helpers.normalize(doc)\n",
    "\n",
    "inverted_index = helpers.build_inverted_index(idf, corpus)\n",
    "\n",
    "docs_file = os.path.join(data_path, 'docs.pickle')\n",
    "inverted_index_file = os.path.join(data_path, 'inverted_index.pickle')\n",
    "dictionary_file = os.path.join(data_path, 'dictionary.txt')\n",
    "\n",
    "# Serialize data\n",
    "with open(docs_file, 'wb') as f:\n",
    "    pickle.dump(docs, f)\n",
    "\n",
    "with open(inverted_index_file, 'wb') as f:\n",
    "    pickle.dump(inverted_index, f)\n",
    "\n",
    "with open(dictionary_file, 'w') as f:\n",
    "    for word in idf.keys():\n",
    "        f.write(word + '\\n')\n",
    "\n",
    "print('Index done.')\n"
   ]
  },
  {
   "cell_type": "markdown",
   "metadata": {},
   "source": [
    "Finally Run query of same search key on created engine with vector space retrieval model for the search."
   ]
  },
  {
   "cell_type": "code",
   "execution_count": 3,
   "metadata": {},
   "outputs": [
    {
     "name": "stdout",
     "output_type": "stream",
     "text": [
      "----- Results query: (Computer Science)------ \n",
      "1. Computer Science & Engineering - 0.8810942888417447\n",
      "2. Department of Computer Science and Engineering - 0.7547141503480617\n",
      "3. Department of Computer Science and Engineering - University of ... - 0.7304441293993396\n",
      "4. Contact Us | Computer Science and Engineering - 0.6908853157399746\n",
      "5. Contact Us | Computer Science and Engineering - 0.6908853157399746\n",
      "6. Discovery Park B205 | Computing for Arts + Sciences - 0.6684611170637984\n",
      "7. GATE 141 | Computing for Arts + Sciences - 0.5357695888096836\n",
      "8. Departmental Staff | Computer Science and Engineering - 0.520615437958739\n",
      "9. Computer Labs - University Libraries - UNT - 0.42836244440554433\n",
      "10. Computer Labs - University Libraries - UNT - 0.42836244440554433\n",
      "11. The Student Computer Lab at Discovery Park | College of Information - 0.3228691794000635\n",
      "12. Social Science | University of North Texas - 0.311183794929343\n",
      "13. Information Science | College of Information - 0.3041174301061119\n",
      "14. UNT Computer Labs | Academic Technologies - 0.3000981710226302\n",
      "15. Student Computer Lab | Information Technology Services - 0.28424818718601885\n",
      "16. Help Support Graduate Research at UNT! | College of Science - 0.28368126464820675\n",
      "17. Research BREAKS Session - High Performance Computing at UNT ... - 0.25052067625846447\n",
      "18. Research BREAKS Session - High Performance Computing at UNT ... - 0.25052067625846447\n",
      "19. Department of Political Science - University of North Texas - Acalog ... - 0.24233614983799942\n",
      "20. Life Sciences Complex | Facilities - 0.23874575127169695\n",
      "21. UNT engineering graduate student wins National Science ... - 0.2309384116179161\n",
      "22. New agreement leverages Texas Advanced Computing Center ... - 0.22640643868903837\n",
      "23. Lisa Welch | Department of Biological Sciences - 0.22567162087478906\n",
      "24. Get Advised Now! | College of Liberal Arts & Social Sciences - 0.22469477923126344\n",
      "25. Greenhouse at Discovery Park | Department of Biological Sciences - 0.21465586687300198\n",
      "26. Office of Student Advising | College of Liberal Arts & Social Sciences - 0.20666792928722613\n",
      "27. Advisor Contact Information | College of Liberal Arts & Social Sciences - 0.1862044385355273\n",
      "28. Dataflow based Near Data Computing Achieves Excellent Energy ... - 0.18169803677317609\n",
      "29. UNT's Academic Standards | College of Liberal Arts & Social Sciences - 0.17382505299589943\n",
      "30. Meet UNT Biological Sciences Lecturer Dr. Lisa Welch | College of ... - 0.16857358784943452\n",
      "31. UNT plant science discovery advances renewable energy research ... - 0.16738967918273906\n",
      "32. UNT's Science Education Research Lab wins water conservation ... - 0.15935309390399183\n"
     ]
    }
   ],
   "source": [
    "import pickle\n",
    "import os\n",
    "import sys\n",
    "import math\n",
    "from utils import textprocessing\n",
    "from utils import helpers\n",
    "from collections import Counter\n",
    "''' Query '''\n",
    "\n",
    "docs_file = os.path.join(os.getcwd(), 'data', 'docs.pickle')\n",
    "inverted_index_file = os.path.join(\n",
    "    os.getcwd(), 'data', 'inverted_index.pickle')\n",
    "\n",
    "stopwords_file = os.path.join(os.getcwd(), 'resources', 'stopwords_en.txt')\n",
    "\n",
    "# Deserialize data\n",
    "with open(docs_file, 'rb') as f:\n",
    "    docs = pickle.load(f)\n",
    "with open(inverted_index_file, 'rb') as f:\n",
    "    inverted_index = pickle.load(f)\n",
    "\n",
    "stopwords = helpers.get_stopwords(stopwords_file)\n",
    "\n",
    "dictionary = set(inverted_index.keys())\n",
    "\n",
    "# Get query from command line\n",
    "query_input = input(\"Query: \")\n",
    "query = query_input\n",
    "# Preprocess query\n",
    "query = textprocessing.preprocess_text(query, stopwords)\n",
    "query = [word for word in query if word in dictionary]\n",
    "query = Counter(query)\n",
    "\n",
    "# Compute weights for words in query\n",
    "for word, value in query.items():\n",
    "    query[word] = inverted_index[word]['idf'] * (1 + math.log(value))\n",
    "\n",
    "helpers.normalize(query)\n",
    "\n",
    "scores = [[i, 0] for i in range(len(docs))]\n",
    "for word, value in query.items():\n",
    "    for doc in inverted_index[word]['postings_list']:\n",
    "        index, weight = doc\n",
    "        scores[index][1] += value * weight\n",
    "\n",
    "scores.sort(key=lambda doc: doc[1], reverse=True)\n",
    "\n",
    "print('----- Results query: ('+ query_input +')------ ')\n",
    "for index, score in enumerate(scores):\n",
    "    if score[1] == 0:\n",
    "        break\n",
    "    print('{}. {} - {}'.format(index + 1, docs[score[0]], score[1]))"
   ]
  }
 ],
 "metadata": {
  "kernelspec": {
   "display_name": "Python 3.10.6 64-bit",
   "language": "python",
   "name": "python3"
  },
  "language_info": {
   "codemirror_mode": {
    "name": "ipython",
    "version": 3
   },
   "file_extension": ".py",
   "mimetype": "text/x-python",
   "name": "python",
   "nbconvert_exporter": "python",
   "pygments_lexer": "ipython3",
   "version": "3.10.6"
  },
  "orig_nbformat": 4,
  "vscode": {
   "interpreter": {
    "hash": "26de051ba29f2982a8de78e945f0abaf191376122a1563185a90213a26c5da77"
   }
  }
 },
 "nbformat": 4,
 "nbformat_minor": 2
}
